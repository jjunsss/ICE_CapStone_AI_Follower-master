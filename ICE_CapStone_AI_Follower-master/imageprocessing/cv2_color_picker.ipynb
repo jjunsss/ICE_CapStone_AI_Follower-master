{
 "cells": [
  {
   "cell_type": "code",
   "execution_count": 1,
   "metadata": {},
   "outputs": [],
   "source": [
    "import cv2\n",
    "import traitlets\n",
    "from IPython.display import display\n",
    "import ipywidgets.widgets as widgets\n",
    "from jetbot import Camera, bgr8_to_jpeg\n",
    "from jetbot import Robot"
   ]
  },
  {
   "cell_type": "code",
   "execution_count": 2,
   "metadata": {},
   "outputs": [
    {
     "data": {
      "application/vnd.jupyter.widget-view+json": {
       "model_id": "eba3dc6352db47ddacffefd31e2626cc",
       "version_major": 2,
       "version_minor": 0
      },
      "text/plain": [
       "Image(value=b'\\xff\\xd8\\xff\\xe0\\x00\\x10JFIF\\x00\\x01\\x01\\x00\\x00\\x01\\x00\\x01\\x00\\x00\\xff\\xdb\\x00C\\x00\\x02\\x01\\x0…"
      ]
     },
     "metadata": {},
     "output_type": "display_data"
    }
   ],
   "source": [
    "camera = Camera.instance(width = 224, height = 224) # 224*224*3\n",
    "image = widgets.Image(format = 'jpeg', width = 224, height = 224)\n",
    "cv2_img = widgets.Image(format = 'jpeg', width = 224, height = 224)\n",
    "camera_link = traitlets.dlink((camera, 'value'), (image, 'value'), transform = bgr8_to_jpeg) # camera의 value와 image widget의 value 동기화(실시간)\n",
    "\n",
    "display(image)"
   ]
  },
  {
   "cell_type": "code",
   "execution_count": 3,
   "metadata": {},
   "outputs": [
    {
     "data": {
      "application/vnd.jupyter.widget-view+json": {
       "model_id": "97e879046c27472488fe53b8a46cf673",
       "version_major": 2,
       "version_minor": 0
      },
      "text/plain": [
       "Image(value=b'', format='jpeg', height='224', width='224')"
      ]
     },
     "metadata": {},
     "output_type": "display_data"
    }
   ],
   "source": [
    "display(cv2_img)"
   ]
  },
  {
   "cell_type": "code",
   "execution_count": 23,
   "metadata": {},
   "outputs": [],
   "source": [
    "def preprocess(camera_value):\n",
    "    global camera #전처리를 위하여 전역함수 camera 설정.\n",
    "    image_value = camera.value # camera value의 형태는 numpy.ndarray\n",
    "    height, width = image_value.shape[:2] # (224, 224, 3)에서 224*224만 추출\n",
    "    img_hsv = cv2.cvtColor(image_value, cv2.COLOR_BGR2HSV) # HSV가 직관적으로 사용가능.\n",
    "    lower_blue = (30, 70, 30)  # (색상, 채도, 명도)\n",
    "    upper_blue = (90, 255, 180)\n",
    "    img_Mask = cv2.inRange(img_hsv, lower_blue, upper_blue) # Mask 작업을 통하여 어떤 부분만 이미지를 남길것인가 결정.\n",
    "    img_bitwise = cv2.bitwise_and(image_value, image_value, mask = img_Mask) # bit연산(and)을 통하여 masking\n",
    "    tmp_img = cv2.imencode(\".jpeg\", img_bitwise)[1].tostring() # bitwise를 jpeg로 code\n",
    "    return tmp_img"
   ]
  },
  {
   "cell_type": "code",
   "execution_count": 5,
   "metadata": {},
   "outputs": [],
   "source": [
    "def update(change):\n",
    "    global cv2_img\n",
    "    x = change['new']\n",
    "    x = preprocess(x)\n",
    "    cv2_img.value = x\n",
    "    \n",
    "update({'new': camera.value}) # init update"
   ]
  },
  {
   "cell_type": "code",
   "execution_count": 6,
   "metadata": {},
   "outputs": [],
   "source": [
    "camera.observe(update, names='value')"
   ]
  }
 ],
 "metadata": {
  "kernelspec": {
   "display_name": "Python 3",
   "language": "python",
   "name": "python3"
  },
  "language_info": {
   "codemirror_mode": {
    "name": "ipython",
    "version": 3
   },
   "file_extension": ".py",
   "mimetype": "text/x-python",
   "name": "python",
   "nbconvert_exporter": "python",
   "pygments_lexer": "ipython3",
   "version": "3.6.9"
  }
 },
 "nbformat": 4,
 "nbformat_minor": 4
}
