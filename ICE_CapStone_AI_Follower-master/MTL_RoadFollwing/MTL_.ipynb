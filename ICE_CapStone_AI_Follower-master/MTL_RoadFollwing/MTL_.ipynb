{
 "cells": [
  {
   "cell_type": "markdown",
   "metadata": {},
   "source": [
    "# TensorRT"
   ]
  },
  {
   "cell_type": "code",
   "execution_count": 1,
   "metadata": {},
   "outputs": [],
   "source": [
    "import torch\n",
    "import torchvision\n",
    "from torch2trt import TRTModule\n",
    "\n",
    "device = torch.device('cuda')"
   ]
  },
  {
   "cell_type": "code",
   "execution_count": 2,
   "metadata": {},
   "outputs": [
    {
     "data": {
      "text/plain": [
       "<All keys matched successfully>"
      ]
     },
     "execution_count": 2,
     "metadata": {},
     "output_type": "execute_result"
    }
   ],
   "source": [
    "model = TRTModule()\n",
    "model.load_state_dict(torch.load('/workspace/banana/best_model_MTL_2_trt.pth'))"
   ]
  },
  {
   "cell_type": "code",
   "execution_count": 3,
   "metadata": {},
   "outputs": [],
   "source": [
    "import torchvision.transforms as transforms\n",
    "import torch.nn.functional as F\n",
    "import cv2\n",
    "import PIL.Image\n",
    "import numpy as np\n",
    "\n",
    "mean = torch.Tensor([0.485, 0.456, 0.406]).cuda().half()\n",
    "std = torch.Tensor([0.229, 0.224, 0.225]).cuda().half()\n",
    "\n",
    "def preprocess(image):\n",
    "    image = PIL.Image.fromarray(image)\n",
    "    tran = transforms.Compose([\n",
    "        transforms.Grayscale(3), \n",
    "        transforms.ToTensor()\n",
    "    ]\n",
    "    )\n",
    "    image = tran(image).to(device).half()\n",
    "    \n",
    "    image.sub_(mean[:, None, None]).div_(std[:, None, None])\n",
    "    return image[None, ...]"
   ]
  },
  {
   "cell_type": "code",
   "execution_count": 4,
   "metadata": {},
   "outputs": [],
   "source": [
    "from IPython.display import display\n",
    "import ipywidgets\n",
    "import traitlets\n",
    "from jetbot import Camera, bgr8_to_jpeg\n",
    "\n",
    "camera = Camera()"
   ]
  },
  {
   "cell_type": "code",
   "execution_count": 5,
   "metadata": {},
   "outputs": [
    {
     "data": {
      "application/vnd.jupyter.widget-view+json": {
       "model_id": "92253db012eb4c8da466e649ddc837eb",
       "version_major": 2,
       "version_minor": 0
      },
      "text/plain": [
       "HBox(children=(HBox(children=(FloatSlider(value=0.0, description='y', max=1.0, orientation='vertical', readout…"
      ]
     },
     "metadata": {},
     "output_type": "display_data"
    },
    {
     "data": {
      "application/vnd.jupyter.widget-view+json": {
       "model_id": "8a1b45a2d0c0417d9e210ed82e8fd554",
       "version_major": 2,
       "version_minor": 0
      },
      "text/plain": [
       "FloatSlider(value=0.0, description='x', max=1.0, min=-1.0)"
      ]
     },
     "metadata": {},
     "output_type": "display_data"
    },
    {
     "data": {
      "application/vnd.jupyter.widget-view+json": {
       "model_id": "a36704bb421f41978aa31421a7e737e1",
       "version_major": 2,
       "version_minor": 0
      },
      "text/plain": [
       "FloatSlider(value=0.0, description='pid', max=3.0, min=-3.0, readout_format='0.3f')"
      ]
     },
     "metadata": {},
     "output_type": "display_data"
    }
   ],
   "source": [
    "speed_gain_slider = ipywidgets.FloatSlider(min=0.0, max=1.0, step=0.01, description='speed gain')\n",
    "add_motor = ipywidgets.FloatSlider(min=0.0, max=2.0, step=0.01, value=0.35, description='add_motor')#add each motor speed\n",
    "dec_motor = ipywidgets.FloatSlider(min=0.0, max=2.0, step=0.01, value=0.30, description='dec_motor')\n",
    "diff_slider = ipywidgets.FloatSlider(min=0.1, max=1, step=0.01, value=0.2, description='add_diff')#add diff direction value\n",
    "pid_value = ipywidgets.FloatSlider(min=0.1, max=1, step=0.1, value=0.4 ,description='pid value')\n",
    "\n",
    "left_value = ipywidgets.FloatSlider(min=0.0, max=1, step=0.1, value=0.0 ,description='left value')\n",
    "right_value = ipywidgets.FloatSlider(min=0.0, max=1, step=0.1, value=0.0 ,description='right value')\n",
    "\n",
    "image_widget = ipywidgets.Image()\n",
    "draw_widget = ipywidgets.Image(width=camera.width, height=camera.height)\n",
    "\n",
    "x_slider = ipywidgets.FloatSlider(min=-1.0, max=1.0, description='x')\n",
    "y_slider = ipywidgets.FloatSlider(min=0, max=1.0, orientation='vertical', readout_format='0.3f', description='y')\n",
    "block_slider = ipywidgets.FloatSlider(min=0.0, max=1.0, orientation='vertical', description='block')\n",
    "steering_slider = ipywidgets.FloatSlider(min=-3.0, max=3.0, readout_format='0.3f', description='pid')\n",
    "speed_slider = ipywidgets.FloatSlider(min=0, max=1.0, step=0.05, value=0.25, orientation='vertical', description='speed')\n",
    "\n",
    "controll_box = ipywidgets.VBox([speed_gain_slider, add_motor,dec_motor, diff_slider, pid_value, left_value, right_value])\n",
    "display(ipywidgets.HBox([ipywidgets.HBox([y_slider, draw_widget]), block_slider, speed_slider, controll_box]))\n",
    "display(x_slider, steering_slider)\n",
    "\n",
    "from jetbot import Robot\n",
    "robot = Robot()"
   ]
  },
  {
   "cell_type": "code",
   "execution_count": 6,
   "metadata": {},
   "outputs": [
    {
     "name": "stdout",
     "output_type": "stream",
     "text": [
      "[2021-11-11 12:56:54.279063] Connecting...\n"
     ]
    }
   ],
   "source": [
    "from BotLine import *\n",
    "\n",
    "botLine = BotLine('JETBOT', '192.168.0.14', 8000, 10.0)"
   ]
  },
  {
   "cell_type": "code",
   "execution_count": 7,
   "metadata": {},
   "outputs": [
    {
     "name": "stdout",
     "output_type": "stream",
     "text": [
      "[2021-11-11 12:56:55.278334] Connect(Hash: 410429634)\n"
     ]
    }
   ],
   "source": [
    "import time\n",
    "\n",
    "angle_last = 0.0\n",
    "left = 0.0\n",
    "right = 0.0\n",
    "isStop = False\n",
    "\n",
    "t0 = time.time()\n",
    "\n",
    "def execute(change):\n",
    "    global angle_last, left, right, isStop, t0\n",
    "    image = change['new']\n",
    "    result = model(preprocess(image))\n",
    "    xy = result[0].float().cpu().numpy().flatten()\n",
    "    block = result[1].float().cpu().numpy().flatten()\n",
    "    \n",
    "    x = round(xy[0], 3)\n",
    "    y = round((0.5 - xy[1]), 3)\n",
    "    \n",
    "    x_slider.value = x\n",
    "    y_slider.value = y\n",
    "    block_slider.value = block\n",
    "    \n",
    "    angle = round(np.arctan2(x, y),3) #radian\n",
    "    \n",
    "    if (botLine.botLineObject.isStop() is False) and (botLine.botLineObject.isWorking() is True):\n",
    "        if block_slider.value >= 0.55:\n",
    "            robot.stop()\n",
    "            isStop = True\n",
    "            left = 0\n",
    "            right = 0\n",
    "        else:\n",
    "            if ( (abs(angle - angle_last) > abs(angle_last)) and ( angle_last != 0) and (abs(angle) > pid_value.value)):\n",
    "                angle = angle_last + ( angle * diff_slider.value )\n",
    "\n",
    "                pid = round(angle ,2)\n",
    "\n",
    "                if pid > 0 :\n",
    "                    left = round(pid * add_motor.value * speed_slider.value + speed_slider.value , 2)\n",
    "                    right = round(-pid * dec_motor.value * speed_slider.value + speed_slider.value, 2)\n",
    "                else:\n",
    "                    left = round(pid * dec_motor.value * speed_slider.value + speed_slider.value , 2)\n",
    "                    right = round(-pid * add_motor.value * speed_slider.value + speed_slider.value, 2)\n",
    "            else:\n",
    "                pid = round(angle ,2) #0.95 etc..\n",
    "                left = round(max(pid, 0)* add_motor.value * speed_slider.value + speed_slider.value , 2)\n",
    "                right = round(max(-pid, 0)* add_motor.value * speed_slider.value + speed_slider.value, 2)\n",
    "\n",
    "                steering_slider.value = pid\n",
    "\n",
    "                #전역변수 설정\n",
    "            angle_last = angle\n",
    "            robot.left_motor.value = left\n",
    "            robot.right_motor.value = right\n",
    "    else:\n",
    "        robot.stop()\n",
    "    \n",
    "    image_data = image.copy()\n",
    "    circle_color = (0, 255, 0)\n",
    "    if block_slider.value >= 0.55:\n",
    "        circle_color = (0, 0, 255)\n",
    "    image_data = cv2.circle(image_data, \n",
    "                            (112 + int(x_slider.value * 112), \n",
    "                             224 - int(y_slider.value * 224)), 8, circle_color, 3)\n",
    "    draw_widget.value = bgr8_to_jpeg(image_data)\n",
    "    \n",
    "    botLine.onUpdate()\n",
    "    time.sleep(0.001)\n",
    "        \n",
    "execute({'new': camera.value})"
   ]
  },
  {
   "cell_type": "code",
   "execution_count": 8,
   "metadata": {},
   "outputs": [],
   "source": [
    "camera.observe(execute, names='value')"
   ]
  },
  {
   "cell_type": "code",
   "execution_count": 10,
   "metadata": {},
   "outputs": [],
   "source": [
    "import time\n",
    "\n",
    "camera.unobserve(execute, names='value')\n",
    "\n",
    "time.sleep(0.1)  # add a small sleep to make sure frames have finished processing\n",
    "robot.stop()"
   ]
  },
  {
   "cell_type": "code",
   "execution_count": 11,
   "metadata": {},
   "outputs": [],
   "source": [
    "botLine.onDestory()"
   ]
  },
  {
   "cell_type": "code",
   "execution_count": 12,
   "metadata": {},
   "outputs": [],
   "source": [
    "camera.stop()"
   ]
  },
  {
   "cell_type": "code",
   "execution_count": null,
   "metadata": {},
   "outputs": [],
   "source": []
  }
 ],
 "metadata": {
  "kernelspec": {
   "display_name": "Python 3",
   "language": "python",
   "name": "python3"
  },
  "language_info": {
   "codemirror_mode": {
    "name": "ipython",
    "version": 3
   },
   "file_extension": ".py",
   "mimetype": "text/x-python",
   "name": "python",
   "nbconvert_exporter": "python",
   "pygments_lexer": "ipython3",
   "version": "3.6.9"
  }
 },
 "nbformat": 4,
 "nbformat_minor": 4
}
