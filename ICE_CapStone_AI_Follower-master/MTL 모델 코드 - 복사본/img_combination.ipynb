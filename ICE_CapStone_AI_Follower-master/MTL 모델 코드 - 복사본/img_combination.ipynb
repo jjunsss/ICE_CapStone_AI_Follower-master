{
 "cells": [
  {
   "cell_type": "code",
   "execution_count": 1,
   "metadata": {},
   "outputs": [],
   "source": [
    "import numpy as np\n",
    "import matplotlib.pyplot as plt\n",
    "import cv2"
   ]
  },
  {
   "cell_type": "code",
   "execution_count": 65,
   "metadata": {},
   "outputs": [
    {
     "data": {
      "text/plain": [
       "<matplotlib.image.AxesImage at 0x1cb8c9e62e8>"
      ]
     },
     "execution_count": 65,
     "metadata": {},
     "output_type": "execute_result"
    },
    {
     "data": {
      "image/png": "[encoded data removed]",
      "text/plain": [
       "<Figure size 432x288 with 1 Axes>"
      ]
     },
     "metadata": {
      "needs_background": "light"
     },
     "output_type": "display_data"
    }
   ],
   "source": [
    "img = cv2.imread('right_sign.jpg', cv2.IMREAD_COLOR)\n",
    "img = cv2.cvtColor(img, cv2.COLOR_BGR2RGB)\n",
    "plt.imshow(img)\n"
   ]
  },
  {
   "cell_type": "code",
   "execution_count": 66,
   "metadata": {},
   "outputs": [
    {
     "name": "stderr",
     "output_type": "stream",
     "text": [
      "Clipping input data to the valid range for imshow with RGB data ([0..1] for floats or [0..255] for integers).\n"
     ]
    },
    {
     "data": {
      "text/plain": [
       "<matplotlib.image.AxesImage at 0x1cb8ca65208>"
      ]
     },
     "execution_count": 66,
     "metadata": {},
     "output_type": "execute_result"
    },
    {
     "data": {
      "image/png": "[encoded data removed]",
      "text/plain": [
       "<Figure size 432x288 with 1 Axes>"
      ]
     },
     "metadata": {
      "needs_background": "light"
     },
     "output_type": "display_data"
    }
   ],
   "source": [
    "img = right('right_sign.jpg')\n",
    "plt.imshow(img)"
   ]
  },
  {
   "cell_type": "code",
   "execution_count": 3,
   "metadata": {},
   "outputs": [],
   "source": [
    "def sign_left(dir):\n",
    "    img = plt.imread(dir)\n",
    "    img = img[20:230,:,:]\n",
    "    img = cv2.resize(img,dsize=(40, 40), interpolation=cv2.INTER_CUBIC)\n",
    "    return img\n",
    "\n",
    "def sign_right(dir):\n",
    "    img = cv2.imread(dir , cv2.IMREAD_COLOR)\n",
    "    img = cv2.cvtColor(img, cv2.COLOR_BGR2RGB)\n",
    "    img = img[30:190,:,:]\n",
    "    img = cv2.resize(img,dsize=(40, 40), interpolation=cv2.INTER_CUBIC)\n",
    "    return img\n"
   ]
  },
  {
   "cell_type": "code",
   "execution_count": 39,
   "metadata": {},
   "outputs": [],
   "source": [
    "# dir = 'dataset/xy_104_128_000_13075ade-208a-11ec-b9ec-4c1d96ff72a1.jpg'\n",
    "# orginal = plt.imread(dir)\n",
    "# change = orginal.copy()\n",
    "\n",
    "# #change[100:140, 100:140, :] = img\n",
    "\n",
    "# plt.imshow(change)\n",
    "# plt.show()"
   ]
  },
  {
   "cell_type": "code",
   "execution_count": 6,
   "metadata": {},
   "outputs": [],
   "source": [
    "import glob\n",
    "import os\n",
    "\n",
    "\n",
    "def xyz(dir):\n",
    "    x = int(dir.split(\"_\")[1])\n",
    "    y = int(dir.split(\"_\")[2])\n",
    "    z = int(dir.split(\"_\")[3])\n",
    "    return x, y, z\n",
    "\n",
    "\n",
    "def off(x, y, sign_img, change):\n",
    "    xoffset, yoffset = sign_img.shape[1]//2, sign_img.shape[0]//2\n",
    "    xs = x - xoffset\n",
    "    xe = x + xoffset\n",
    "    ys = y - yoffset\n",
    "    ye = y + yoffset\n",
    "\n",
    "    for r in range(40):\n",
    "        for i, j in zip(sign_img[:, :, :], change[ys:ye, xs:xe, :]):\n",
    "            if (sum(i[r][1:3] == 255) != 2):  # 기호가 존재하는 부분에서만\n",
    "                j[r] = i[r]  # 해당 기호 값을 원본 이미지로 가져온다.\n",
    "    \n",
    "    return change\n",
    "\n",
    "# h W C\n"
   ]
  },
  {
   "cell_type": "code",
   "execution_count": 10,
   "metadata": {},
   "outputs": [],
   "source": [
    "import glob\n",
    "from uuid import uuid1\n",
    "\n",
    "\n",
    "list = glob.glob('dataset/*.jpg')\n",
    "left = sign_left('left_curve.jpg')\n",
    "right = sign_right('right_sign.jpg')\n",
    "\n",
    "## left = 0 / right = 1\n",
    "for li in list:\n",
    "    x, y, z = xyz(li)\n",
    "    if 50 < x < 150 and z == 0 :\n",
    "        road_img = plt.imread(li).copy()\n",
    "        change_img = off(x, y, right, road_img)\n",
    "\n",
    "        # 0 : left 1 : right binary classification. \n",
    "        plt.imsave('combine/xyz_%d_%d_%d_%d_%s.jpg' % (x, y, 1, 1, uuid1()), change_img)\n"
   ]
  },
  {
   "cell_type": "code",
   "execution_count": 41,
   "metadata": {},
   "outputs": [],
   "source": [
    "\n",
    "\n",
    "# 0 : left 1 : right binary classification. \n",
    "plt.imsave('xyz_%d_%d_%d_%d_%s.jpg' %(x, y, 1, 0, uuid1()), change)"
   ]
  }
 ],
 "metadata": {
  "interpreter": {
   "hash": "bc81c174d5edfa1bafeba3c91814ce887937c786693b0bfcf6d425b3d2f615f8"
  },
  "kernelspec": {
   "display_name": "Python 3.7.0 64-bit",
   "name": "python3"
  },
  "language_info": {
   "codemirror_mode": {
    "name": "ipython",
    "version": 3
   },
   "file_extension": ".py",
   "mimetype": "text/x-python",
   "name": "python",
   "nbconvert_exporter": "python",
   "pygments_lexer": "ipython3",
   "version": "3.7.0"
  },
  "orig_nbformat": 4
 },
 "nbformat": 4,
 "nbformat_minor": 2
}
